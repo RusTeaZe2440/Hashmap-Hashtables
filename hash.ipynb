{
 "cells": [
  {
   "cell_type": "code",
   "execution_count": 8,
   "metadata": {},
   "outputs": [],
   "source": [
    "class Hashmaps:\n",
    "\n",
    "    def __init__(self, size):\n",
    "        self.size = size\n",
    "        self.slots = [None] * self.size\n",
    "        self.data = [None] * self.size\n",
    "\n",
    "    def put(self, key, value):\n",
    "        index = self._hashfunction(key)\n",
    "\n",
    "        if self.slots[index] == None:\n",
    "            self.slots[index] = key\n",
    "            self.data[index] = value\n",
    "\n",
    "        else:\n",
    "            if self.slots[index] == key:\n",
    "                self.data[index] = value\n",
    "            \n",
    "\n",
    "            newindex = self.rehash(index)\n",
    "            while self.slots[newindex] != None and self.slots[newindex] != key:\n",
    "                newindex = self.rehash(newindex)\n",
    "\n",
    "            if self.slots[newindex] == None:\n",
    "                self.slots[newindex] = key\n",
    "                self.data[newindex] = value\n",
    "            else:\n",
    "                self.data[newindex] = value\n",
    "\n",
    "\n",
    "    def get(self,key):\n",
    "        index = self._hashfunction(key)\n",
    "\n",
    "        while self.slots[index]:\n",
    "            if self.slots[index] == key:\n",
    "                return self.data[index]\n",
    "            \n",
    "            newindex = self.rehash(index)\n",
    "            if newindex == newindex:\n",
    "                raise KeyError('Key Not Found')\n",
    "        \n",
    "        raise KeyError('Key Not Found')\n",
    "\n",
    "    \n",
    "    def remove(self,key):\n",
    "        index = self._hashfunction(key)\n",
    "        \n",
    "        if self.slots[index] == key:\n",
    "            del self.slots[index]\n",
    "            del self.data[index]\n",
    "        else:\n",
    "            index = self.rehash(index)\n",
    "            if index == index:\n",
    "                return 'key not found'\n",
    "        return 'key not found'\n",
    "\n",
    "    def rehash(self,old_hash):\n",
    "        return (old_hash + 1) % self.size\n",
    "\n",
    "    def _hashfunction(self, key):\n",
    "        return abs(hash(key)) % self.size\n"
   ]
  },
  {
   "cell_type": "code",
   "execution_count": 9,
   "metadata": {},
   "outputs": [
    {
     "name": "stdout",
     "output_type": "stream",
     "text": [
      "[None, None, 'bhavesh', 'sahil', 'Mohit']\n",
      "[None, None, 22, 21, 22]\n"
     ]
    }
   ],
   "source": [
    "h = Hashmaps(5)\n",
    "h.put('bhavesh',22)\n",
    "h.put('sahil',21)\n",
    "h.put('Mohit',22)\n",
    "print(h.slots)\n",
    "print(h.data)"
   ]
  },
  {
   "cell_type": "code",
   "execution_count": 10,
   "metadata": {},
   "outputs": [
    {
     "name": "stdout",
     "output_type": "stream",
     "text": [
      "[None, None, 'bhavesh', 'sahil', 'Mohit']\n",
      "[None, None, 22, 21, 22]\n"
     ]
    }
   ],
   "source": [
    "print(h.slots)\n",
    "print(h.data)"
   ]
  },
  {
   "cell_type": "code",
   "execution_count": 11,
   "metadata": {},
   "outputs": [
    {
     "name": "stdout",
     "output_type": "stream",
     "text": [
      "['deva', 'ghansu', 'bhavesh', 'sahil', 'Mohit']\n",
      "[22, 22, 22, 21, 22]\n"
     ]
    }
   ],
   "source": [
    "h.put('deva',22)\n",
    "h.put('ghansu',22)\n",
    "print(h.slots)\n",
    "print(h.data)"
   ]
  },
  {
   "cell_type": "code",
   "execution_count": 12,
   "metadata": {},
   "outputs": [
    {
     "data": {
      "text/plain": [
       "'key not found'"
      ]
     },
     "execution_count": 12,
     "metadata": {},
     "output_type": "execute_result"
    }
   ],
   "source": [
    "h.remove('bhavesh')"
   ]
  },
  {
   "cell_type": "code",
   "execution_count": 6,
   "metadata": {},
   "outputs": [
    {
     "name": "stdout",
     "output_type": "stream",
     "text": [
      "['deva', 'ghansu', 'sahil', 'Mohit']\n",
      "[22, 22, 21, 22]\n"
     ]
    }
   ],
   "source": [
    "print(h.slots)\n",
    "print(h.data)"
   ]
  },
  {
   "cell_type": "code",
   "execution_count": 58,
   "metadata": {},
   "outputs": [
    {
     "name": "stdout",
     "output_type": "stream",
     "text": [
      "['Mohit', 'deva', 'ghansu', 'sahil']\n",
      "[22, 22, 22, 21]\n"
     ]
    }
   ],
   "source": [
    "print(h.slots)\n",
    "print(h.data)"
   ]
  },
  {
   "cell_type": "code",
   "execution_count": 1,
   "metadata": {},
   "outputs": [
    {
     "data": {
      "text/plain": [
       "1888383"
      ]
     },
     "execution_count": 1,
     "metadata": {},
     "output_type": "execute_result"
    }
   ],
   "source": []
  },
  {
   "cell_type": "code",
   "execution_count": null,
   "metadata": {},
   "outputs": [],
   "source": []
  }
 ],
 "metadata": {
  "kernelspec": {
   "display_name": "base",
   "language": "python",
   "name": "python3"
  },
  "language_info": {
   "codemirror_mode": {
    "name": "ipython",
    "version": 3
   },
   "file_extension": ".py",
   "mimetype": "text/x-python",
   "name": "python",
   "nbconvert_exporter": "python",
   "pygments_lexer": "ipython3",
   "version": "3.9.13"
  }
 },
 "nbformat": 4,
 "nbformat_minor": 2
}
